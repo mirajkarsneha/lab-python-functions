{
 "cells": [
  {
   "cell_type": "markdown",
   "id": "25d7736c-ba17-4aff-b6bb-66eba20fbf4e",
   "metadata": {},
   "source": [
    "# Lab | Functions"
   ]
  },
  {
   "cell_type": "markdown",
   "id": "0c581062-8967-4d93-b06e-62833222f930",
   "metadata": {
    "tags": []
   },
   "source": [
    "## Exercise: Managing Customer Orders with Functions\n",
    "\n",
    "In the previous exercise, you improved the code for managing customer orders by using loops and flow control. Now, let's take it a step further and refactor the code by introducing functions.\n",
    "\n",
    "Follow the steps below to complete the exercise:\n",
    "\n",
    "1. Define a function named `initialize_inventory` that takes `products` as a parameter. Inside the function, implement the code for initializing the inventory dictionary using a loop and user input.\n",
    "\n",
    "2. Define a function named `get_customer_orders` that takes no parameters. Inside the function, implement the code for prompting the user to enter the product names using a loop. The function should return the `customer_orders` set.\n",
    "\n",
    "3. Define a function named `update_inventory` that takes `customer_orders` and `inventory` as parameters. Inside the function, implement the code for updating the inventory dictionary based on the customer orders.\n",
    "\n",
    "4. Define a function named `calculate_order_statistics` that takes `customer_orders` and `products` as parameters. Inside the function, implement the code for calculating the order statistics (total products ordered, and percentage of unique products ordered). The function should return these values.\n",
    "\n",
    "5. Define a function named `print_order_statistics` that takes `order_statistics` as a parameter. Inside the function, implement the code for printing the order statistics.\n",
    "\n",
    "6. Define a function named `print_updated_inventory` that takes `inventory` as a parameter. Inside the function, implement the code for printing the updated inventory.\n",
    "\n",
    "7. Call the functions in the appropriate sequence to execute the program and manage customer orders.\n",
    "\n",
    "Hints for functions:\n",
    "\n",
    "- Consider the input parameters required for each function and their return values.\n",
    "- Utilize function parameters and return values to transfer data between functions.\n",
    "- Test your functions individually to ensure they work correctly.\n"
   ]
  },
  {
   "cell_type": "code",
   "execution_count": 34,
   "id": "abb07bc3-f193-41b0-9b66-3e2d6e4f2527",
   "metadata": {},
   "outputs": [],
   "source": [
    "#Define a function named `initialize_inventory` that takes `products` as a parameter. \n",
    "def initialize_inventory(products):\n",
    "    \n",
    "    #Inside the function, implement the code for initializing the inventory dictionary using a loop and user input. \n",
    "    inventory = {}\n",
    "\n",
    "    for product in products:\n",
    "        quantity = int (input(f'Please enter quantity of each product available in the inventory {product} :'))\n",
    "        inventory[product] = quantity\n",
    "    return inventory"
   ]
  },
  {
   "cell_type": "code",
   "execution_count": 12,
   "id": "40be0d1f-f885-4587-af73-6bf36ab74931",
   "metadata": {},
   "outputs": [
    {
     "name": "stdin",
     "output_type": "stream",
     "text": [
      "Please enter quantity of each product available in the inventory t-shirt : 3\n",
      "Please enter quantity of each product available in the inventory mug : 4\n",
      "Please enter quantity of each product available in the inventory hat : 45\n",
      "Please enter quantity of each product available in the inventory book : 5\n",
      "Please enter quantity of each product available in the inventory keychain : 5\n"
     ]
    },
    {
     "data": {
      "text/plain": [
       "{'t-shirt': 3, 'mug': 4, 'hat': 45, 'book': 5, 'keychain': 5}"
      ]
     },
     "execution_count": 12,
     "metadata": {},
     "output_type": "execute_result"
    }
   ],
   "source": [
    "products = [\"t-shirt\", \"mug\", \"hat\", \"book\", \"keychain\"]\n",
    "initialize_inventory(products)"
   ]
  },
  {
   "cell_type": "code",
   "execution_count": 36,
   "id": "14d08a90-2c8f-4578-bdf4-d745d27d5705",
   "metadata": {},
   "outputs": [],
   "source": [
    "#Define a function named `get_customer_orders` that takes no parameters. \n",
    "def get_customer_orders():\n",
    "#Inside the function, implement the code for prompting the user to enter the product names using a loop. The function should return the `customer_orders` set.\n",
    "  for product in products:\n",
    "     product_name = input(\"Please enter the name of the product the customer wants to order: \")  #Prompt the user to enter the name of a product that a customer wants to order.\n",
    "     customer_orders.add(product_name)\n",
    "  return customer_orders    "
   ]
  },
  {
   "cell_type": "code",
   "execution_count": 16,
   "id": "a9e3e1fe-f6cc-493b-9368-8026c0011140",
   "metadata": {},
   "outputs": [
    {
     "name": "stdin",
     "output_type": "stream",
     "text": [
      "Please enter the name of the product the customer wants to order:  book\n",
      "Please enter the name of the product the customer wants to order:  pen\n",
      "Please enter the name of the product the customer wants to order:  book\n",
      "Please enter the name of the product the customer wants to order:  pen\n",
      "Please enter the name of the product the customer wants to order:  book\n"
     ]
    },
    {
     "data": {
      "text/plain": [
       "{'book', 'pen'}"
      ]
     },
     "execution_count": 16,
     "metadata": {},
     "output_type": "execute_result"
    }
   ],
   "source": [
    "customer_orders = set()\n",
    "get_customer_orders()"
   ]
  },
  {
   "cell_type": "code",
   "execution_count": 38,
   "id": "c54d2917-246a-4923-b47e-5933e323296f",
   "metadata": {},
   "outputs": [],
   "source": [
    "#Define a function named `update_inventory` that takes `customer_orders` and `inventory` as parameters. \n",
    "def update_inventory(customer_orders, inventory):\n",
    "#Inside the function, implement the code for updating the inventory dictionary based on the customer orders.\n",
    " for product in products:\n",
    "    quantity = int (input(f'Please enter quantity of each product available in the inventory {product} :'))\n",
    "    inventory[product] = quantity\n",
    " return inventory"
   ]
  },
  {
   "cell_type": "code",
   "execution_count": 19,
   "id": "dc192148-bfc3-43bb-bd89-550ce3bf70c7",
   "metadata": {},
   "outputs": [
    {
     "name": "stdin",
     "output_type": "stream",
     "text": [
      "Please enter quantity of each product available in the inventory t-shirt : 5\n",
      "Please enter quantity of each product available in the inventory mug : 6\n",
      "Please enter quantity of each product available in the inventory hat : 7\n",
      "Please enter quantity of each product available in the inventory book : 7\n",
      "Please enter quantity of each product available in the inventory keychain : 7\n"
     ]
    },
    {
     "name": "stdout",
     "output_type": "stream",
     "text": [
      "Updated inventory: {'t-shirt': 5, 'mug': 6, 'hat': 7, 'book': 7, 'keychain': 7}\n"
     ]
    }
   ],
   "source": [
    "inventory = { \"t-shirt\": 10, \"mug\": 15, \"hat\": 8, \"book\": 5, \"keychain\": 20}\n",
    "customer_orders = {\"t-shirt\", \"book\", \"keychain\", \"hat\", \"pen\"}  # 'pen' is not in inventory\n",
    "\n",
    "updated_inventory = update_inventory(customer_orders, inventory)\n",
    "print(\"Updated inventory:\", updated_inventory)"
   ]
  },
  {
   "cell_type": "code",
   "execution_count": 40,
   "id": "3001e562-fca5-4f49-b98e-aa02aafc198d",
   "metadata": {},
   "outputs": [],
   "source": [
    "#Define a function named `calculate_order_statistics` that takes `customer_orders` and `products` as parameters.\n",
    "def calculate_order_statistics(customer_orders, products):\n",
    "#Inside the function, implement the code for calculating the order statistics (total products ordered, and percentage of unique products ordered). The function should return these values.\n",
    "  for product in products:\n",
    "      total_ordered_products = len(customer_orders)\n",
    "      print(f'The total number of products in the `customer_orders` set is {total_ordered_products}')\n",
    "\n",
    "      #The percentage of products ordered compared to the total available products.\n",
    "      total_available_products = len(products)\n",
    "      total_products_ordered = len(customer_orders)\n",
    "      percentage_of_products = (total_products_ordered / total_available_products) * 100\n",
    "      print(f'Percentage of Products ordered: {percentage_of_products}%')\n",
    "  return percentage_of_products"
   ]
  },
  {
   "cell_type": "code",
   "execution_count": 72,
   "id": "9b535ea2-105d-48a9-9290-c530bdb64e27",
   "metadata": {},
   "outputs": [
    {
     "name": "stdout",
     "output_type": "stream",
     "text": [
      "The total number of products in the `customer_orders` set is 4\n",
      "Percentage of Products ordered: 80.0%\n",
      "The total number of products in the `customer_orders` set is 4\n",
      "Percentage of Products ordered: 80.0%\n",
      "The total number of products in the `customer_orders` set is 4\n",
      "Percentage of Products ordered: 80.0%\n",
      "The total number of products in the `customer_orders` set is 4\n",
      "Percentage of Products ordered: 80.0%\n",
      "The total number of products in the `customer_orders` set is 4\n",
      "Percentage of Products ordered: 80.0%\n"
     ]
    },
    {
     "data": {
      "text/plain": [
       "80.0"
      ]
     },
     "execution_count": 72,
     "metadata": {},
     "output_type": "execute_result"
    }
   ],
   "source": [
    "customer_orders = {\"t-shirt\", \"book\", \"keychain\", \"mug\"}\n",
    "products = [\"t-shirt\", \"mug\", \"hat\", \"book\", \"keychain\"]\n",
    "calculate_order_statistics(customer_orders, products)"
   ]
  },
  {
   "cell_type": "code",
   "execution_count": 42,
   "id": "8f44c6d9-d46f-4c46-9761-89c6c500f1d8",
   "metadata": {},
   "outputs": [],
   "source": [
    "#Define a function named `print_order_statistics` that takes `order_statistics` as a parameter. \n",
    "def print_order_statistics(order_statistics):\n",
    "    \n",
    "    #Inside the function, implement the code for printing the order statistics.\n",
    "    total_available_products = len(products)\n",
    "    total_products_ordered = len(customer_orders)\n",
    "    percentage_of_products = (total_products_ordered / total_available_products) * 100\n",
    "    order_statistics = (total_products_ordered, percentage_of_products)\n",
    "    return(order_statistics)"
   ]
  },
  {
   "cell_type": "code",
   "execution_count": 26,
   "id": "74079199-63d1-4227-b247-87870c734523",
   "metadata": {},
   "outputs": [
    {
     "data": {
      "text/plain": [
       "(2, 40.0)"
      ]
     },
     "execution_count": 26,
     "metadata": {},
     "output_type": "execute_result"
    }
   ],
   "source": [
    "order_statistics = {\n",
    "    \"t-shirt\": 3,\n",
    "    \"mug\": 2,\n",
    "    \"hat\": 1\n",
    "}\n",
    "print_order_statistics(order_statistics)"
   ]
  },
  {
   "cell_type": "code",
   "execution_count": 44,
   "id": "149cc4ac-6d37-44c4-84c7-0e8c0dbee57c",
   "metadata": {},
   "outputs": [],
   "source": [
    "#Define a function named `print_updated_inventory` that takes `inventory` as a parameter.\n",
    "def print_updated_inventory(inventory):\n",
    " for product in products:\n",
    "    quantity = int (input(f'Please enter quantity of each product available in the inventory {product} :'))\n",
    "    inventory[product] = quantity -1\n",
    " return inventory"
   ]
  },
  {
   "cell_type": "code",
   "execution_count": 41,
   "id": "8a871179-b144-4cba-b16b-9deca1026d98",
   "metadata": {},
   "outputs": [
    {
     "name": "stdin",
     "output_type": "stream",
     "text": [
      "Please enter quantity of each product available in the inventory t-shirt : 4\n",
      "Please enter quantity of each product available in the inventory mug : 4\n",
      "Please enter quantity of each product available in the inventory hat : 4\n",
      "Please enter quantity of each product available in the inventory book : 4\n",
      "Please enter quantity of each product available in the inventory keychain : 4\n"
     ]
    },
    {
     "data": {
      "text/plain": [
       "{'t-shirt': 3, 'mug': 3, 'hat': 3, 'book': 3, 'keychain': 3}"
      ]
     },
     "execution_count": 41,
     "metadata": {},
     "output_type": "execute_result"
    }
   ],
   "source": [
    "inventory = {'t-shirt': 4, 'mug': 7, 'hat': 9, 'book': 3, 'keychain': 5}\n",
    "print_updated_inventory(inventory)"
   ]
  },
  {
   "cell_type": "code",
   "execution_count": 32,
   "id": "cdaa4650-3c2b-4338-a72e-f995a1771b10",
   "metadata": {},
   "outputs": [
    {
     "name": "stdin",
     "output_type": "stream",
     "text": [
      "Please enter quantity of each product available in the inventory t-shirt : 4\n",
      "Please enter quantity of each product available in the inventory mug : 5\n",
      "Please enter quantity of each product available in the inventory hat : 5\n",
      "Please enter quantity of each product available in the inventory book : 6\n",
      "Please enter quantity of each product available in the inventory keychain : 4\n",
      "Please enter the name of the product the customer wants to order:  shirt\n",
      "Please enter the name of the product the customer wants to order:  key\n",
      "Please enter the name of the product the customer wants to order:  book\n",
      "Please enter the name of the product the customer wants to order:  mug\n",
      "Please enter the name of the product the customer wants to order:  jar\n"
     ]
    },
    {
     "ename": "KeyError",
     "evalue": "'mug'",
     "output_type": "error",
     "traceback": [
      "\u001b[0;31m---------------------------------------------------------------------------\u001b[0m",
      "\u001b[0;31mKeyError\u001b[0m                                  Traceback (most recent call last)",
      "Cell \u001b[0;32mIn[32], line 6\u001b[0m\n\u001b[1;32m      2\u001b[0m initialize_inventory(products)\n\u001b[1;32m      4\u001b[0m get_customer_orders()\n\u001b[0;32m----> 6\u001b[0m update_inventory(customer_orders, inventory)\n\u001b[1;32m      8\u001b[0m print_order_statistics(order_statistics)\n\u001b[1;32m     10\u001b[0m print_updated_inventory(inventory)\n",
      "Cell \u001b[0;32mIn[20], line 7\u001b[0m, in \u001b[0;36mupdate_inventory\u001b[0;34m(customer_orders, inventory)\u001b[0m\n\u001b[1;32m      5\u001b[0m \u001b[38;5;28;01mfor\u001b[39;00m product \u001b[38;5;129;01min\u001b[39;00m products:\n\u001b[1;32m      6\u001b[0m    \u001b[38;5;28;01mif\u001b[39;00m product \u001b[38;5;129;01min\u001b[39;00m customer_orders:\n\u001b[0;32m----> 7\u001b[0m       inventory[product] \u001b[38;5;241m-\u001b[39m\u001b[38;5;241m=\u001b[39m\u001b[38;5;241m1\u001b[39m\n\u001b[1;32m      8\u001b[0m \u001b[38;5;28;01mreturn\u001b[39;00m inventory\n",
      "\u001b[0;31mKeyError\u001b[0m: 'mug'"
     ]
    }
   ],
   "source": [
    "#Call the functions in the appropriate sequence to execute the program and manage customer orders.\n",
    "initialize_inventory(products)\n",
    "\n",
    "get_customer_orders()\n",
    "\n",
    "update_inventory(customer_orders, inventory)\n",
    "\n",
    "print_order_statistics(order_statistics)\n",
    "\n",
    "print_updated_inventory(inventory)"
   ]
  },
  {
   "cell_type": "code",
   "execution_count": null,
   "id": "48406200-be66-46d5-9a34-195b5f8acd69",
   "metadata": {},
   "outputs": [],
   "source": []
  }
 ],
 "metadata": {
  "kernelspec": {
   "display_name": "Python 3 (ipykernel)",
   "language": "python",
   "name": "python3"
  },
  "language_info": {
   "codemirror_mode": {
    "name": "ipython",
    "version": 3
   },
   "file_extension": ".py",
   "mimetype": "text/x-python",
   "name": "python",
   "nbconvert_exporter": "python",
   "pygments_lexer": "ipython3",
   "version": "3.12.4"
  }
 },
 "nbformat": 4,
 "nbformat_minor": 5
}
